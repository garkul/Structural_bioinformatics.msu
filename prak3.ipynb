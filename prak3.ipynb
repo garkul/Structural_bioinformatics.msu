{
  "nbformat": 4,
  "nbformat_minor": 0,
  "metadata": {
    "colab": {
      "provenance": [],
      "authorship_tag": "ABX9TyPntw1i3V1TNn9genlGaoeB",
      "include_colab_link": true
    },
    "kernelspec": {
      "name": "python3",
      "display_name": "Python 3"
    },
    "language_info": {
      "name": "python"
    }
  },
  "cells": [
    {
      "cell_type": "markdown",
      "metadata": {
        "id": "view-in-github",
        "colab_type": "text"
      },
      "source": [
        "<a href=\"https://colab.research.google.com/github/garkul/Structural_bioinformatics.msu/blob/main/prak3.ipynb\" target=\"_parent\"><img src=\"https://colab.research.google.com/assets/colab-badge.svg\" alt=\"Open In Colab\"/></a>"
      ]
    },
    {
      "cell_type": "code",
      "execution_count": null,
      "metadata": {
        "colab": {
          "base_uri": "https://localhost:8080/"
        },
        "id": "FiDyX33X7J57",
        "outputId": "b5485a44-f757-4840-ccf5-efdd1fecbf20"
      },
      "outputs": [
        {
          "output_type": "stream",
          "name": "stdout",
          "text": [
            "Looking in indexes: https://pypi.org/simple, https://us-python.pkg.dev/colab-wheels/public/simple/\n",
            "Collecting prody\n",
            "  Downloading ProDy-2.3.1.tar.gz (12.8 MB)\n",
            "\u001b[K     |████████████████████████████████| 12.8 MB 15.8 MB/s \n",
            "\u001b[?25hRequirement already satisfied: numpy>=1.10 in /usr/local/lib/python3.7/dist-packages (from prody) (1.21.6)\n",
            "Collecting biopython\n",
            "  Downloading biopython-1.80-cp37-cp37m-manylinux_2_17_x86_64.manylinux2014_x86_64.whl (3.0 MB)\n",
            "\u001b[K     |████████████████████████████████| 3.0 MB 40.3 MB/s \n",
            "\u001b[?25hRequirement already satisfied: pyparsing in /usr/local/lib/python3.7/dist-packages (from prody) (3.0.9)\n",
            "Requirement already satisfied: scipy in /usr/local/lib/python3.7/dist-packages (from prody) (1.7.3)\n",
            "Building wheels for collected packages: prody\n",
            "  Building wheel for prody (setup.py) ... \u001b[?25l\u001b[?25hdone\n",
            "  Created wheel for prody: filename=ProDy-2.3.1-cp37-cp37m-linux_x86_64.whl size=11753484 sha256=d3a4bee67cf87d5dd99d87670cff9b80f42427450815ef736af662478e6259e9\n",
            "  Stored in directory: /root/.cache/pip/wheels/79/8a/0c/87245ad587e5ebf6e9b97bdf5fb340e466ca82811a1ee7a8e4\n",
            "Successfully built prody\n",
            "Installing collected packages: biopython, prody\n",
            "Successfully installed biopython-1.80 prody-2.3.1\n"
          ]
        }
      ],
      "source": [
        "!pip install prody"
      ]
    },
    {
      "cell_type": "code",
      "source": [
        "import prody as p\n",
        "import numpy as np\n",
        "import pandas as pd\n",
        "import matplotlib.pyplot as plt\n",
        "import seaborn as sns"
      ],
      "metadata": {
        "id": "vqssPqmo7YN0",
        "colab": {
          "base_uri": "https://localhost:8080/"
        },
        "outputId": "336e43c1-5d7a-4a86-f08c-93c564486d09"
      },
      "execution_count": null,
      "outputs": [
        {
          "output_type": "stream",
          "name": "stderr",
          "text": [
            "/usr/local/lib/python3.7/dist-packages/Bio/pairwise2.py:283: BiopythonDeprecationWarning: Bio.pairwise2 has been deprecated, and we intend to remove it in a future release of Biopython. As an alternative, please consider using Bio.Align.PairwiseAligner as a replacement, and contact the Biopython developers if you still need the Bio.pairwise2 module.\n",
            "  BiopythonDeprecationWarning,\n"
          ]
        }
      ]
    },
    {
      "cell_type": "code",
      "source": [
        "p1 = p.parsePDB('5vm0')\n",
        "p2 = p.parsePDB('5vlv')"
      ],
      "metadata": {
        "colab": {
          "base_uri": "https://localhost:8080/"
        },
        "id": "iT99VqVM7rC0",
        "outputId": "1c84a9c6-8bab-4408-f893-5cd92e72fb49"
      },
      "execution_count": null,
      "outputs": [
        {
          "output_type": "stream",
          "name": "stderr",
          "text": [
            "@> Connecting wwPDB FTP server RCSB PDB (USA).\n",
            "DEBUG:.prody:Connecting wwPDB FTP server RCSB PDB (USA).\n",
            "@> 5vm0 downloaded (5vm0.pdb.gz)\n",
            "DEBUG:.prody:5vm0 downloaded (5vm0.pdb.gz)\n",
            "@> PDB download via FTP completed (1 downloaded, 0 failed).\n",
            "DEBUG:.prody:PDB download via FTP completed (1 downloaded, 0 failed).\n",
            "@> 2137 atoms and 1 coordinate set(s) were parsed in 0.03s.\n",
            "DEBUG:.prody:2137 atoms and 1 coordinate set(s) were parsed in 0.03s.\n",
            "@> Connecting wwPDB FTP server RCSB PDB (USA).\n",
            "DEBUG:.prody:Connecting wwPDB FTP server RCSB PDB (USA).\n",
            "@> 5vlv downloaded (5vlv.pdb.gz)\n",
            "DEBUG:.prody:5vlv downloaded (5vlv.pdb.gz)\n",
            "@> PDB download via FTP completed (1 downloaded, 0 failed).\n",
            "DEBUG:.prody:PDB download via FTP completed (1 downloaded, 0 failed).\n",
            "@> 1003 atoms and 1 coordinate set(s) were parsed in 0.02s.\n",
            "DEBUG:.prody:1003 atoms and 1 coordinate set(s) were parsed in 0.02s.\n"
          ]
        }
      ]
    },
    {
      "cell_type": "code",
      "source": [
        "site = p1.select('within 5 of resnum 202 and not resnum 202 and protein and chain A')\n",
        "site"
      ],
      "metadata": {
        "colab": {
          "base_uri": "https://localhost:8080/"
        },
        "id": "5FiN3UzN710U",
        "outputId": "f24d7fb6-9a10-48f0-fc23-8ccf6ceaee1e"
      },
      "execution_count": null,
      "outputs": [
        {
          "output_type": "execute_result",
          "data": {
            "text/plain": [
              "<Selection: 'within 5 of res...ein and chain A' from 5vm0 (81 atoms)>"
            ]
          },
          "metadata": {},
          "execution_count": 4
        }
      ]
    },
    {
      "cell_type": "code",
      "source": [
        "nums = np.unique(site.getResnums())\n",
        "nums"
      ],
      "metadata": {
        "colab": {
          "base_uri": "https://localhost:8080/"
        },
        "id": "v-98xFS9-SHy",
        "outputId": "90005f9f-09dd-467a-90b7-c947f756d5ab"
      },
      "execution_count": null,
      "outputs": [
        {
          "output_type": "execute_result",
          "data": {
            "text/plain": [
              "array([  3,   4,  26,  29,  30,  31,  32,  34,  35,  36,  74,  75,  76,\n",
              "        79,  80,  81, 100, 101, 102, 114, 115])"
            ]
          },
          "metadata": {},
          "execution_count": 5
        }
      ]
    },
    {
      "cell_type": "code",
      "source": [
        "#нормализируем и стандартизуем на средний B-фактор и стандартное отклонение двух структур\n",
        "mean_p1 = np.mean(p1.getBetas())\n",
        "mean_p2 = np.mean(p2.getBetas())\n",
        "sd_p1 = np.std(p1.getBetas())\n",
        "sd_p2 = np.std(p2.getBetas())\n",
        "\n",
        "z_p1 =[]\n",
        "z_p2 =[]\n",
        "for res in nums:\n",
        "  res1 = p1.select('resnum {} and protein and chain A'.format(res))\n",
        "  res2 = p2.select('resnum {} and protein and chain A'.format(res))\n",
        "  z_p1.append((np.mean(res1.getBetas()) - mean_p1)/sd_p1)\n",
        "  z_p2.append((np.mean(res2.getBetas()) - mean_p2)/sd_p2)"
      ],
      "metadata": {
        "id": "uWrIbZOz-gCs"
      },
      "execution_count": null,
      "outputs": []
    },
    {
      "cell_type": "code",
      "source": [
        "#plt.scatter(x=z_p1, y=z_p2, c =\"blue\")\n",
        "f, ax = plt.subplots(figsize=(10, 10))\n",
        "ax.scatter(x=z_p1, y=z_p2)\n",
        "plt.plot([min(min(z_p1), min(z_p2)),max(max(z_p1), max(z_p2))],[min(min(z_p1), min(z_p2)),max(max(z_p1), max(z_p2))], c=\"green\")\n",
        "plt.xlabel('Z-score с лигандом')\n",
        "plt.ylabel('Z-score свободная форма')\n",
        "plt.show()"
      ],
      "metadata": {
        "colab": {
          "base_uri": "https://localhost:8080/",
          "height": 606
        },
        "id": "AmLsnr-VKw6H",
        "outputId": "e83f4b96-1189-4823-97f2-653e0ccbbf16"
      },
      "execution_count": null,
      "outputs": [
        {
          "output_type": "display_data",
          "data": {
            "text/plain": [
              "<Figure size 720x720 with 1 Axes>"
            ],
            "image/png": "[encoded data removed]"
          },
          "metadata": {
            "needs_background": "light"
          }
        }
      ]
    },
    {
      "cell_type": "code",
      "source": [
        "print(z_p1)"
      ],
      "metadata": {
        "colab": {
          "base_uri": "https://localhost:8080/"
        },
        "id": "KC836Y20L3Yk",
        "outputId": "558f8e61-a888-43b5-8208-9b1886628dbf"
      },
      "execution_count": null,
      "outputs": [
        {
          "output_type": "stream",
          "name": "stdout",
          "text": [
            "[2.2472851013823707, -0.1059129680705166, -0.19007618424118147, 0.3299823697675504, -0.5178032107086591, -0.5268220264052502, -0.7560115180763608, -0.922534187278373, -0.945053333275429, -0.5486252457954632, -1.040454991198847, -0.5020900163506798, -0.5452625602178685, 0.1117989700623203, -0.6916711009419155, -0.9097962723254553, -0.9235569395738626, -0.7824847427827565, -0.3887132755215713, 0.05363639002588345, -0.17390275135023278]\n"
          ]
        }
      ]
    },
    {
      "cell_type": "code",
      "source": [
        "print(z_p2)"
      ],
      "metadata": {
        "colab": {
          "base_uri": "https://localhost:8080/"
        },
        "id": "t2wXNtBsMPRJ",
        "outputId": "84100bb4-f42a-4049-919b-9b5722a1df75"
      },
      "execution_count": null,
      "outputs": [
        {
          "output_type": "stream",
          "name": "stdout",
          "text": [
            "[3.3736367687195625, 0.4113028222462544, 0.047138882071328436, 3.388628513033242, 0.4944462258453594, 0.0886011846556196, 0.19760968843452043, -0.14417603448514918, -0.595690906808065, -0.302501009905959, 0.11182365444077584, 0.4456072904605469, 0.7922204708155866, 0.4066490143589191, -0.16590827542171582, -0.40960805113387816, -0.5194240253111422, -0.47117470907352016, -0.19295592902362965, -0.17997388881254156, -0.09683048521343683]\n"
          ]
        }
      ]
    },
    {
      "cell_type": "code",
      "source": [],
      "metadata": {
        "id": "knxNaE716ufm"
      },
      "execution_count": null,
      "outputs": []
    }
  ]
}